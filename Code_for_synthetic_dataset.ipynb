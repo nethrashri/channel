{
 "cells": [
  {
   "cell_type": "code",
   "execution_count": 1,
   "id": "37cbbaa7-e786-4445-9af8-6bc02195325e",
   "metadata": {
    "tags": []
   },
   "outputs": [],
   "source": [
    "import pandas as pd\n",
    "import numpy as np\n",
    "import random\n",
    "from datetime import datetime, timedelta\n"
   ]
  },
  {
   "cell_type": "code",
   "execution_count": 2,
   "id": "1808a6b0-e5f4-48b1-8081-ac1475ee74ad",
   "metadata": {
    "tags": []
   },
   "outputs": [],
   "source": [
    "\n",
    "# Define the date range and intervals\n",
    "start_date = datetime(2024, 1, 1)\n",
    "end_date = datetime(2024, 7, 30)\n",
    "date_range = pd.date_range(start=start_date, end=end_date, freq='15T')  # 15-minute intervals\n",
    "\n",
    "# Define service groups and their service names\n",
    "service_groups = {\n",
    "    \"Gaming\": [\"Fortnite\", \"League of Legends\", \"Valorant\"],\n",
    "    \"Social Media\": [\"Instagram\", \"Facebook\", \"LinkedIn\", \"Twitter\"],\n",
    "    \"Streaming\": [\"YouTube\", \"Netflix\", \"Hulu\"],\n",
    "    \"Shopping\": [\"Amazon\", \"eBay\", \"Etsy\"],\n",
    "    \"Software\": [\"Gmail\", \"Outlook\", \"BlueJeans\", \"Slack\", \"WebEx\", \"GMeet\", \"Teams\"]\n",
    "}\n"
   ]
  },
  {
   "cell_type": "code",
   "execution_count": 3,
   "id": "edb4ea9c-3d16-4542-a386-af806266af58",
   "metadata": {
    "tags": []
   },
   "outputs": [],
   "source": [
    "\n",
    "# Define users, device types, and generate MAC addresses\n",
    "users = [\"user1\", \"user2\", \"user3\", \"user4\", \"user5\"]\n",
    "device_types = [\"PC\", \"Laptop\", \"Tablet\"]\n",
    "mac_addresses = [f\"02:00:00:{random.randint(0x00, 0xFF):02x}:{random.randint(0x00, 0xFF):02x}:{random.randint(0x00, 0xFF):02x}\" for _ in range(len(users))]\n"
   ]
  },
  {
   "cell_type": "code",
   "execution_count": 4,
   "id": "c31b1a2d-b328-45c7-9f08-ff114a321634",
   "metadata": {
    "tags": []
   },
   "outputs": [],
   "source": [
    "\n",
    "# Data generation\n",
    "data_adjusted = []\n",
    "\n",
    "for timestamp in date_range:\n",
    "    for user, mac_address in zip(users, mac_addresses):\n",
    "        hour = timestamp.hour\n",
    "        day_of_week = timestamp.weekday()\n",
    "\n",
    "        # Determine service group based on time and day patterns\n",
    "        if 9 <= hour < 18 and day_of_week < 5:\n",
    "            service_group = \"Software\" if random.random() > 0.2 else random.choice([\"Social Media\", \"Streaming\"])\n",
    "        elif day_of_week < 4 and hour >= 18:\n",
    "            service_group = \"Gaming\" if random.random() > 0.3 else \"Streaming\"\n",
    "        elif day_of_week == 4 and hour >= 18:\n",
    "            service_group = \"Shopping\" if random.random() > 0.5 else random.choice([\"Gaming\", \"Streaming\"])\n",
    "        elif day_of_week >= 5:\n",
    "            service_group = random.choice([\"Shopping\", \"Streaming\", \"Gaming\"])\n",
    "        else:\n",
    "            service_group = \"Streaming\" if random.random() > 0.5 else \"Social Media\"\n",
    "\n",
    "        # Select a service name based on service group\n",
    "        service_name = random.choice(service_groups[service_group])\n",
    "\n",
    "        # Generate random values for other columns\n",
    "        usage_minutes = random.randint(1, 200)\n",
    "        usage_percentage = round(random.uniform(10, 100), 2)\n",
    "        device_type = random.choice(device_types)\n",
    "        signal_strength = round(random.uniform(-60, -40), 2)\n",
    "        packet_loss_rate = round(random.uniform(0, 1), 4)\n",
    "        latency = round(random.uniform(10, 50), 2)\n",
    "        jitter_ms = round(random.uniform(0, 10), 2)\n",
    "        traffic_spike = random.choice([0, 1])\n",
    "        bandwidth_speed_per_sec_mbps = round(random.uniform(5, 15), 2)\n",
    "        buffer_occupancy = round(random.uniform(0, 1), 4)\n",
    "\n",
    "        # Append row to data\n",
    "        data_adjusted.append([user, timestamp, service_group, service_name, usage_minutes, usage_percentage, mac_address,\n",
    "                              device_type, signal_strength, packet_loss_rate, latency, jitter_ms, traffic_spike,\n",
    "                              bandwidth_speed_per_sec_mbps, buffer_occupancy])\n"
   ]
  },
  {
   "cell_type": "code",
   "execution_count": 5,
   "id": "b404d3a9-d425-4283-a078-82a355baf82f",
   "metadata": {
    "tags": []
   },
   "outputs": [],
   "source": [
    "\n",
    "# Create DataFrame and save\n",
    "df_balanced_adjusted = pd.DataFrame(data_adjusted, columns=[\n",
    "    \"achash\", \"timestamp\", \"service_group\", \"service_name\", \"usage_minutes\", \"usage_percentage\", \"mac_address\", \n",
    "    \"device_type\", \"signal_strength\", \"packet_loss_rate\", \"latency\", \"jitter_ms\", \"traffic_spike\", \n",
    "    \"bandwidth_speed_per_sec_mbps\", \"buffer_occupancy\"\n",
    "])\n"
   ]
  },
  {
   "cell_type": "code",
   "execution_count": 6,
   "id": "4cf1680b-f28e-4579-a8b8-f68f03f1cd97",
   "metadata": {
    "tags": []
   },
   "outputs": [
    {
     "name": "stdout",
     "output_type": "stream",
     "text": [
      "Dataset created and saved as 'balanced_dataset_adjusted.csv'\n"
     ]
    }
   ],
   "source": [
    "\n",
    "# # Save to CSV\n",
    "# df_balanced_adjusted.to_csv(\"balanced_dataset_adjusted.csv\", index=False)\n",
    "# print(\"Dataset created and saved as 'balanced_dataset_adjusted.csv'\")\n"
   ]
  },
  {
   "cell_type": "code",
   "execution_count": null,
   "id": "fb79348e-72a2-455e-a1c3-91a7a24dc145",
   "metadata": {},
   "outputs": [],
   "source": []
  }
 ],
 "metadata": {
  "kernelspec": {
   "display_name": "Python 3 (ipykernel)",
   "language": "python",
   "name": "python3"
  },
  "language_info": {
   "codemirror_mode": {
    "name": "ipython",
    "version": 3
   },
   "file_extension": ".py",
   "mimetype": "text/x-python",
   "name": "python",
   "nbconvert_exporter": "python",
   "pygments_lexer": "ipython3",
   "version": "3.11.5"
  }
 },
 "nbformat": 4,
 "nbformat_minor": 5
}
