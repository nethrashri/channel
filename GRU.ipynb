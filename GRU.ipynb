{
 "cells": [
  {
   "cell_type": "code",
   "execution_count": 1,
   "id": "419e7257-3b8b-4a19-beee-4ec04fda5b30",
   "metadata": {
    "tags": []
   },
   "outputs": [],
   "source": [
    "import pandas as pd\n",
    "import numpy as np\n",
    "from sklearn.preprocessing import MinMaxScaler\n",
    "import tensorflow as tf\n",
    "from tensorflow.keras.models import Sequential\n",
    "from tensorflow.keras.layers import GRU, Dense, Flatten\n",
    "import matplotlib.pyplot as plt\n",
    "import gc\n"
   ]
  },
  {
   "cell_type": "code",
   "execution_count": 2,
   "id": "166dc583-870e-4108-be0e-f75a636320d5",
   "metadata": {
    "tags": []
   },
   "outputs": [],
   "source": [
    "\n",
    "# Load the dataset\n",
    "df = pd.read_csv(\"balanced_dataset_time.csv\")\n"
   ]
  },
  {
   "cell_type": "code",
   "execution_count": 3,
   "id": "9e2450dd-48e4-45be-b7dd-91f22f1f9e46",
   "metadata": {
    "tags": []
   },
   "outputs": [],
   "source": [
    "\n",
    "# Convert 'timestamp' to datetime format\n",
    "df['timestamp'] = pd.to_datetime(df['timestamp'])\n"
   ]
  },
  {
   "cell_type": "code",
   "execution_count": 4,
   "id": "8141b30a-b31a-4c3a-bbc4-cecc20e19a24",
   "metadata": {
    "tags": []
   },
   "outputs": [],
   "source": [
    "\n",
    "# Filter for one service group (e.g., \"Gaming\") for this example\n",
    "service = 'Gaming'\n",
    "df_daily = df[df['service_group'] == service].groupby(df['timestamp'].dt.date).size().reset_index(name='usage_count')\n",
    "df_daily['timestamp'] = pd.to_datetime(df_daily['timestamp'])\n",
    "\n"
   ]
  },
  {
   "cell_type": "code",
   "execution_count": 5,
   "id": "8daa4702-9512-4cf9-a705-f8ac00ea668a",
   "metadata": {
    "tags": []
   },
   "outputs": [],
   "source": [
    "\n",
    "# Sort by date and set the index\n",
    "df_daily = df_daily.sort_values('timestamp').set_index('timestamp')\n"
   ]
  },
  {
   "cell_type": "code",
   "execution_count": 6,
   "id": "dc4ddb1b-c5c9-47ce-b0d1-ecfa8e5ac1ef",
   "metadata": {
    "tags": []
   },
   "outputs": [],
   "source": [
    "\n",
    "# Normalize the data using MinMaxScaler\n",
    "scaler = MinMaxScaler(feature_range=(0, 1))\n",
    "df_daily['usage_count'] = scaler.fit_transform(df_daily[['usage_count']])\n"
   ]
  },
  {
   "cell_type": "code",
   "execution_count": 7,
   "id": "8f4c2595-8d8c-4ef0-84ce-5b70ace4804b",
   "metadata": {
    "tags": []
   },
   "outputs": [],
   "source": [
    "\n",
    "# Reduce the dataset size by using a smaller subset (10% for testing)\n",
    "df_daily = df_daily.sample(frac=0.1, random_state=42)  # Use 10% of the data for testing\n"
   ]
  },
  {
   "cell_type": "code",
   "execution_count": 8,
   "id": "8dfd342b-c744-4892-a41a-1c357e3102e5",
   "metadata": {
    "tags": []
   },
   "outputs": [
    {
     "data": {
      "text/plain": [
       "33"
      ]
     },
     "execution_count": 8,
     "metadata": {},
     "output_type": "execute_result"
    }
   ],
   "source": [
    "\n",
    "# Clear unused variables to free up memory\n",
    "gc.collect()\n"
   ]
  },
  {
   "cell_type": "code",
   "execution_count": 9,
   "id": "d8b3a940-6ce6-42fa-9d36-c836c7c99f11",
   "metadata": {
    "tags": []
   },
   "outputs": [],
   "source": [
    "\n",
    "# Set a smaller sequence length\n",
    "sequence_length = 5  # Reduced to 5 to save memory\n"
   ]
  },
  {
   "cell_type": "code",
   "execution_count": 10,
   "id": "23f3bdfa-01fa-494e-baed-d253e7d06f35",
   "metadata": {
    "tags": []
   },
   "outputs": [],
   "source": [
    "\n",
    "# Prepare the dataset for time series forecasting\n",
    "X, y = [], []\n",
    "for i in range(len(df_daily) - sequence_length):\n",
    "    X.append(df_daily['usage_count'].iloc[i:i + sequence_length].values)\n",
    "    y.append(df_daily['usage_count'].iloc[i + sequence_length])\n",
    "\n",
    "X, y = np.array(X), np.array(y)\n"
   ]
  },
  {
   "cell_type": "code",
   "execution_count": 11,
   "id": "c088767c-61c5-4b8e-801f-65024fe09020",
   "metadata": {
    "tags": []
   },
   "outputs": [],
   "source": [
    "\n",
    "# Reshape X for GRU model: [samples, time steps, features]\n",
    "X = np.reshape(X, (X.shape[0], X.shape[1], 1))\n"
   ]
  },
  {
   "cell_type": "code",
   "execution_count": 12,
   "id": "36aea7ad-93a2-4580-bb4b-fba9d778fa70",
   "metadata": {
    "tags": []
   },
   "outputs": [
    {
     "data": {
      "text/plain": [
       "0"
      ]
     },
     "execution_count": 12,
     "metadata": {},
     "output_type": "execute_result"
    }
   ],
   "source": [
    "\n",
    "# Clear unused variables to free up memory\n",
    "gc.collect()\n"
   ]
  },
  {
   "cell_type": "code",
   "execution_count": 13,
   "id": "3806f9b3-2a63-4268-8847-eaeaa4c4e9b1",
   "metadata": {
    "tags": []
   },
   "outputs": [
    {
     "name": "stderr",
     "output_type": "stream",
     "text": [
      "2024-11-11 15:39:48.446040: I metal_plugin/src/device/metal_device.cc:1154] Metal device set to: Apple M1 Pro\n",
      "2024-11-11 15:39:48.446088: I metal_plugin/src/device/metal_device.cc:296] systemMemory: 16.00 GB\n",
      "2024-11-11 15:39:48.446095: I metal_plugin/src/device/metal_device.cc:313] maxCacheSize: 5.33 GB\n",
      "2024-11-11 15:39:48.446147: I tensorflow/core/common_runtime/pluggable_device/pluggable_device_factory.cc:306] Could not identify NUMA node of platform GPU ID 0, defaulting to 0. Your kernel may not have been built with NUMA support.\n",
      "2024-11-11 15:39:48.446170: I tensorflow/core/common_runtime/pluggable_device/pluggable_device_factory.cc:272] Created TensorFlow device (/job:localhost/replica:0/task:0/device:GPU:0 with 0 MB memory) -> physical PluggableDevice (device: 0, name: METAL, pci bus id: <undefined>)\n"
     ]
    }
   ],
   "source": [
    "\n",
    "# Define the GRU model with fewer units\n",
    "model = Sequential()\n",
    "model.add(GRU(units=10, return_sequences=True, input_shape=(X.shape[1], 1)))  # Reduced to 10 units\n",
    "model.add(GRU(units=10))  # Reduced to 10 units\n",
    "model.add(Dense(units=1))\n"
   ]
  },
  {
   "cell_type": "code",
   "execution_count": 14,
   "id": "13e64b5d-e2dc-46b9-924e-331cd30a8376",
   "metadata": {
    "tags": []
   },
   "outputs": [],
   "source": [
    "\n",
    "# Compile the model\n",
    "model.compile(optimizer='adam', loss='mean_squared_error')\n"
   ]
  },
  {
   "cell_type": "code",
   "execution_count": null,
   "id": "10a0eedd-357e-457b-9a58-bda43241cbf3",
   "metadata": {
    "tags": []
   },
   "outputs": [
    {
     "name": "stdout",
     "output_type": "stream",
     "text": [
      "Epoch 1/2\n"
     ]
    }
   ],
   "source": [
    "\n",
    "# Train the model with fewer epochs and a smaller batch size\n",
    "history = model.fit(X, y, epochs=2, batch_size=4, validation_split=0.2)  # Reduced epochs to 2 and batch size to 4\n"
   ]
  },
  {
   "cell_type": "code",
   "execution_count": null,
   "id": "189bde1d-9477-4690-85e8-4381ae80e302",
   "metadata": {},
   "outputs": [],
   "source": [
    "\n",
    "# Make predictions\n",
    "train_predict = model.predict(X)\n"
   ]
  },
  {
   "cell_type": "code",
   "execution_count": null,
   "id": "ee0d7d8b-9723-48e0-a470-f0b3f1635404",
   "metadata": {},
   "outputs": [],
   "source": [
    "\n",
    "# Inverse transform to get back to original scale\n",
    "train_predict = scaler.inverse_transform(train_predict)\n",
    "y_actual = scaler.inverse_transform([y]).T\n"
   ]
  },
  {
   "cell_type": "code",
   "execution_count": null,
   "id": "95a91705-46f3-4e14-83b8-8e58ce8a0717",
   "metadata": {},
   "outputs": [],
   "source": [
    "\n",
    "# Plot the actual vs predicted values\n",
    "plt.figure(figsize=(12, 6))\n",
    "plt.plot(df_daily.index[sequence_length:], y_actual, label=\"Actual Usage Count\", color='black')\n",
    "plt.plot(df_daily.index[sequence_length:], train_predict, label=\"Predicted Usage Count\", color='blue')\n",
    "plt.title(f\"{service} Usage Prediction Using GRU\")\n",
    "plt.xlabel(\"Date\")\n",
    "plt.ylabel(\"Usage Count\")\n",
    "plt.legend()\n",
    "plt.show()"
   ]
  },
  {
   "cell_type": "code",
   "execution_count": null,
   "id": "0545d80b-f20c-4dcf-82d0-f734c1e94025",
   "metadata": {},
   "outputs": [],
   "source": []
  }
 ],
 "metadata": {
  "kernelspec": {
   "display_name": "Python 3 (ipykernel)",
   "language": "python",
   "name": "python3"
  },
  "language_info": {
   "codemirror_mode": {
    "name": "ipython",
    "version": 3
   },
   "file_extension": ".py",
   "mimetype": "text/x-python",
   "name": "python",
   "nbconvert_exporter": "python",
   "pygments_lexer": "ipython3",
   "version": "3.11.5"
  }
 },
 "nbformat": 4,
 "nbformat_minor": 5
}
